{
 "cells": [
  {
   "cell_type": "code",
   "execution_count": null,
   "id": "6c3e195b",
   "metadata": {},
   "outputs": [],
   "source": [
    "def prediction(new_image):\n",
    "    try:\n",
    "        model = load_model('/input/pneumonia_model.h5')\n",
    "        pred = model.predict(new_image)\n",
    "    \n",
    "        if pred[0][0] > 0.80:\n",
    "            label='Pneumonia, risk=' + str(round(pred[0][0]*100,2)) + '%'\n",
    "        elif pred[0][0] < 0.60:\n",
    "            label='Normal, risk=' + str(r`ound(pred[0][0]*100,2)) + '%'\n",
    "        else:\n",
    "            label='Unsure, risk=' + str(round(pred[0][0]*100,2)) + '%'\n",
    "    except Exception as e:\n",
    "        logging.error(f\"Prediction error: {e}\")\n",
    "        raise   \n",
    "    prediction = {'label':label,'pred':pred[0][0]}\n",
    "    return prediction"
   ]
  }
 ],
 "metadata": {
  "kernelspec": {
   "display_name": "Python 3",
   "language": "python",
   "name": "python3"
  },
  "language_info": {
   "codemirror_mode": {
    "name": "ipython",
    "version": 3
   },
   "file_extension": ".py",
   "mimetype": "text/x-python",
   "name": "python",
   "nbconvert_exporter": "python",
   "pygments_lexer": "ipython3",
   "version": "3.6.9"
  }
 },
 "nbformat": 4,
 "nbformat_minor": 5
}
